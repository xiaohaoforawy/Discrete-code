{
 "cells": [
  {
   "cell_type": "markdown",
   "metadata": {},
   "source": [
    "### 正则表达式的应用\n",
    "* 在因特网上搜索相关的网页,处理html数据,从中提取出当前时间点北京各监测站点的PM2.5浓度\n",
    "\n",
    "* 写出各个处理步骤,并给出解释"
   ]
  },
  {
   "cell_type": "markdown",
   "metadata": {},
   "source": [
    "### 处理步骤\n",
    "* 搜索相关网页,找到[北京PM2.5及北京空气质量指数](http://www.86pm25.com/city/beijing.html)\n",
    "* 查看这个网页的源代码,得到如下代码\n",
    "\n",
    "```html\n",
    "<tr><td>奥体中心</td><td>277</td><td><img src=\"../images/wurandengji/zhongdu.gif\"  /> </td><td>227μg/m³</td><td>—μg/m³</td></tr>\n",
    "<tr><td>昌平镇</td><td>288</td><td><img src=\"../images/wurandengji/zhongdu.gif\"  /> </td><td>238μg/m³</td><td>—μg/m³</td></tr>\n",
    "<tr><td>定陵</td><td>283</td><td><img src=\"../images/wurandengji/zhongdu.gif\"  /> </td><td>233μg/m³</td><td>—μg/m³</td></tr>\n",
    "<tr><td>东四</td><td>280</td><td><img src=\"../images/wurandengji/zhongdu.gif\"  /> </td><td>230μg/m³</td><td>252μg/m³</td></tr>\n",
    "<tr><td>古城</td><td>330</td><td><img src=\"../images/wurandengji/yan.gif\"  /> </td><td>280μg/m³</td><td>299μg/m³</td></tr>\n",
    "<tr><td>官园</td><td>272</td><td><img src=\"../images/wurandengji/zhongdu.gif\"  /> </td><td>222μg/m³</td><td>—μg/m³</td></tr>\n",
    "<tr><td>海淀区万柳</td><td>291</td><td><img src=\"../images/wurandengji/zhongdu.gif\"  /> </td><td>241μg/m³</td><td>—μg/m³</td></tr>\n",
    "<tr><td>怀柔镇</td><td>288</td><td><img src=\"../images/wurandengji/zhongdu.gif\"  /> </td><td>238μg/m³</td><td>—μg/m³</td></tr>\n",
    "<tr><td>农展馆</td><td>286</td><td><img src=\"../images/wurandengji/zhongdu.gif\"  /> </td><td>236μg/m³</td><td>255μg/m³</td></tr>\n",
    "<tr><td>顺义新城</td><td>299</td><td><img src=\"../images/wurandengji/zhongdu.gif\"  /> </td><td>249μg/m³</td><td>—μg/m³</td></tr>\n",
    "<tr><td>天坛</td><td>277</td><td><img src=\"../images/wurandengji/zhongdu.gif\"  /> </td><td>227μg/m³</td><td>236μg/m³</td></tr>\n",
    "<tr><td>万寿西宫</td><td>281</td><td><img src=\"../images/wurandengji/zhongdu.gif\"  /> </td><td>231μg/m³</td><td>272μg/m³</td></tr></table>\n",
    "\t<!--站点实时值结束-->\n",
    "```\n",
    "\n",
    "* 仔细分析目标字串所在位置的字符特征,设计如下正则匹配式\n",
    "\n",
    "```py\n",
    "    r'<td>([\\u4e00-\\u9fa5]+|\\d*μg/m³)</td><td>'\n",
    "```\n",
    "\n",
    "* 编写源代码并运行"
   ]
  },
  {
   "cell_type": "code",
   "execution_count": 1,
   "metadata": {},
   "outputs": [
    {
     "name": "stdout",
     "output_type": "stream",
     "text": [
      "2018-04-02 11:43:58,奥体中心,231μg/m³\n",
      "2018-04-02 11:43:58,昌平镇,238μg/m³\n",
      "2018-04-02 11:43:58,定陵,227μg/m³\n",
      "2018-04-02 11:43:58,东四,248μg/m³\n",
      "2018-04-02 11:43:58,古城,283μg/m³\n",
      "2018-04-02 11:43:58,官园,224μg/m³\n",
      "2018-04-02 11:43:58,海淀区万柳,239μg/m³\n",
      "2018-04-02 11:43:58,怀柔镇,243μg/m³\n",
      "2018-04-02 11:43:58,农展馆,247μg/m³\n",
      "2018-04-02 11:43:58,顺义新城,249μg/m³\n",
      "2018-04-02 11:43:58,天坛,233μg/m³\n",
      "2018-04-02 11:43:58,万寿西宫,238μg/m³\n"
     ]
    }
   ],
   "source": [
    "#!/usr/bin/python3\n",
    "from urllib import request\n",
    "from re import compile\n",
    "from time import strftime,gmtime\n",
    "\"\"\"\n",
    "2018《Linux编程环境》课程作业\n",
    "Author：Wei Xiao\n",
    "2018.04.02\n",
    "\"\"\"\n",
    "class weather:\n",
    "    \"\"\"\n",
    "    爬取当前时间北京市各环境将测点空气PM2.5浓度\n",
    "    \"\"\"\n",
    "    __result = []\n",
    "    #爬虫处理结果，隐式申明\n",
    "\n",
    "    def spyder(self):\n",
    "        \"\"\"\n",
    "        爬虫\n",
    "        :return:\n",
    "        \"\"\"\n",
    "        __downloadurl = 'http://www.86pm25.com/city/beijing.html'\n",
    "        #目标网址\n",
    "\n",
    "        __head = {}\n",
    "        __head['User-Agent'] = 'Mozilla/5.0 (Linux; Android 4.1.1; Nexus 7 Build/JRO03D) AppleWebKit/535.19 (KHTML, like Gecko) Chrome/18.0.1025.166  Safari/535.19'\n",
    "        download_req = request.Request(url = __downloadurl, headers = __head)\n",
    "        #伪装成一般浏览器\n",
    "\n",
    "        download_response=request.urlopen(download_req)\n",
    "        #获取网页源代码\n",
    "\n",
    "        download_html = download_response.read().decode('utf-8')\n",
    "        #解码\n",
    "\n",
    "        pattern = compile(r'<td>([\\u4e00-\\u9fa5]+|\\d*μg/m³)</td><td>')\n",
    "        #正则匹配式\n",
    "\n",
    "        self.__result= pattern.findall(download_html)\n",
    "        #正则匹配答案\n",
    "\n",
    "    def show(self):\n",
    "        ti=strftime(\"%Y-%m-%d %H:%M:%S\", gmtime())\n",
    "        #得到当前时间\n",
    "        leng=len(self.__result)\n",
    "        #算出答案长度\n",
    "        for i in range(0,leng,2):\n",
    "            print(ti+\",\"+self.__result[i]+\",\"+self.__result[i+1])\n",
    "            #输出结果\n",
    "\n",
    "if __name__=='__main__':\n",
    "    temp=weather()\n",
    "    temp.spyder()\n",
    "    temp.show()"
   ]
  },
  {
   "cell_type": "markdown",
   "metadata": {},
   "source": [
    "### 实验感想\n",
    "* 一定要仔细分析目标串的字符特征,分析的越透彻,代码越简洁"
   ]
  },
  {
   "cell_type": "code",
   "execution_count": null,
   "metadata": {
    "collapsed": true
   },
   "outputs": [],
   "source": []
  }
 ],
 "metadata": {
  "kernelspec": {
   "display_name": "Python 3",
   "language": "python",
   "name": "python3"
  },
  "language_info": {
   "codemirror_mode": {
    "name": "ipython",
    "version": 3
   },
   "file_extension": ".py",
   "mimetype": "text/x-python",
   "name": "python",
   "nbconvert_exporter": "python",
   "pygments_lexer": "ipython3",
   "version": "3.6.1"
  }
 },
 "nbformat": 4,
 "nbformat_minor": 2
}
